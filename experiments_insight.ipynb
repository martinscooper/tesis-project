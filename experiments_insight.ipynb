{
 "cells": [
  {
   "cell_type": "code",
   "execution_count": 1,
   "metadata": {},
   "outputs": [],
   "source": [
    "from experiments.experiments_results import get_experiments_data, generate_df_from_experiments\n",
    "from utils.utils import get_list_of_users\n",
    "import pandas as pd"
   ]
  },
  {
   "cell_type": "code",
   "execution_count": 2,
   "metadata": {},
   "outputs": [
    {
     "name": "stdout",
     "output_type": "stream",
     "text": [
      "This took 0.123\n"
     ]
    }
   ],
   "source": [
    "generate_df_from_experiments()"
   ]
  },
  {
   "cell_type": "code",
   "execution_count": 16,
   "metadata": {},
   "outputs": [],
   "source": [
    "def get_results_from_keywords(comp_col='arch', based_on='score', ix=-1, **kwargs):\n",
    "    '''\n",
    "    This function generates a table that ranks the specify comp_col columns\n",
    "    based on its performance (mean_score col) for all the users\n",
    "    \n",
    "    '''\n",
    "    df = get_experiments_data()\n",
    "    \n",
    "    col_values = list(df[comp_col].drop_duplicates())\n",
    "    nb_values = len(col_values)\n",
    "    rank_col_names = [f'rank{i}' for i in range(1,nb_values+1)]\n",
    "    \n",
    "    if ix>=0:\n",
    "        based_on = f'{based_on}_{ix}'\n",
    "    else: based_on = f'mean_{based_on}'\n",
    "        \n",
    "    \n",
    "    assert all(k in df.columns for k in kwargs.keys()) , f'kwargs must be one of {df.columns}'\n",
    "    for k,v in kwargs.items():\n",
    "        df = df.loc[df[k]==v]\n",
    "    print(kwargs)\n",
    "    print(f'Remaining experiments: {df.shape[0]}')\n",
    "    \n",
    "    rows = []\n",
    "    for user in get_list_of_users():\n",
    "        sorted_scores = df.loc[(df.user==user)][[comp_col,based_on]].sort_values(based_on, ascending=True).drop_duplicates(subset=[comp_col])\n",
    "        best =  sorted_scores.iloc[0:nb_values,0].values\n",
    "        row = {'user': user, 'best': best}\n",
    "        rows.append(row)\n",
    "\n",
    "    results = pd.DataFrame(rows)\n",
    "    results[rank_col_names] = pd.DataFrame(results.best.tolist(), index=results.index)\n",
    "    del results['best']\n",
    "    \n",
    "    summarize = pd.DataFrame(columns=results.columns, index=col_values)\n",
    "    for i in summarize.columns:\n",
    "        for j in summarize.index.values:\n",
    "            summarize.at[j,i] = sum(results[i]==j)\n",
    "    del summarize['user']\n",
    "    return summarize"
   ]
  },
  {
   "cell_type": "code",
   "execution_count": 21,
   "metadata": {},
   "outputs": [
    {
     "name": "stdout",
     "output_type": "stream",
     "text": [
      "{}\n",
      "Remaining experiments: 9216\n"
     ]
    },
    {
     "name": "stderr",
     "output_type": "stream",
     "text": [
      "C:\\Users\\marsa\\Miniconda3\\envs\\tesis-env\\lib\\site-packages\\pandas\\core\\computation\\expressions.py:68: FutureWarning: elementwise comparison failed; returning scalar instead, but in the future will perform elementwise comparison\n",
      "  return op(a, b)\n",
      "C:\\Users\\marsa\\Miniconda3\\envs\\tesis-env\\lib\\site-packages\\pandas\\core\\computation\\expressions.py:68: FutureWarning: elementwise comparison failed; returning scalar instead, but in the future will perform elementwise comparison\n",
      "  return op(a, b)\n",
      "C:\\Users\\marsa\\Miniconda3\\envs\\tesis-env\\lib\\site-packages\\pandas\\core\\computation\\expressions.py:68: FutureWarning: elementwise comparison failed; returning scalar instead, but in the future will perform elementwise comparison\n",
      "  return op(a, b)\n",
      "C:\\Users\\marsa\\Miniconda3\\envs\\tesis-env\\lib\\site-packages\\pandas\\core\\computation\\expressions.py:68: FutureWarning: elementwise comparison failed; returning scalar instead, but in the future will perform elementwise comparison\n",
      "  return op(a, b)\n"
     ]
    },
    {
     "data": {
      "text/html": [
       "<div>\n",
       "<style scoped>\n",
       "    .dataframe tbody tr th:only-of-type {\n",
       "        vertical-align: middle;\n",
       "    }\n",
       "\n",
       "    .dataframe tbody tr th {\n",
       "        vertical-align: top;\n",
       "    }\n",
       "\n",
       "    .dataframe thead th {\n",
       "        text-align: right;\n",
       "    }\n",
       "</style>\n",
       "<table border=\"1\" class=\"dataframe\">\n",
       "  <thead>\n",
       "    <tr style=\"text-align: right;\">\n",
       "      <th></th>\n",
       "      <th>rank1</th>\n",
       "      <th>rank2</th>\n",
       "      <th>rank3</th>\n",
       "      <th>rank4</th>\n",
       "    </tr>\n",
       "  </thead>\n",
       "  <tbody>\n",
       "    <tr>\n",
       "      <th>rnn</th>\n",
       "      <td>16</td>\n",
       "      <td>8</td>\n",
       "      <td>7</td>\n",
       "      <td>17</td>\n",
       "    </tr>\n",
       "    <tr>\n",
       "      <th>cnn</th>\n",
       "      <td>11</td>\n",
       "      <td>10</td>\n",
       "      <td>16</td>\n",
       "      <td>11</td>\n",
       "    </tr>\n",
       "    <tr>\n",
       "      <th>tcn</th>\n",
       "      <td>14</td>\n",
       "      <td>14</td>\n",
       "      <td>13</td>\n",
       "      <td>7</td>\n",
       "    </tr>\n",
       "    <tr>\n",
       "      <th>mlp</th>\n",
       "      <td>7</td>\n",
       "      <td>16</td>\n",
       "      <td>12</td>\n",
       "      <td>13</td>\n",
       "    </tr>\n",
       "  </tbody>\n",
       "</table>\n",
       "</div>"
      ],
      "text/plain": [
       "    rank1 rank2 rank3 rank4\n",
       "rnn    16     8     7    17\n",
       "cnn    11    10    16    11\n",
       "tcn    14    14    13     7\n",
       "mlp     7    16    12    13"
      ]
     },
     "execution_count": 21,
     "metadata": {},
     "output_type": "execute_result"
    }
   ],
   "source": [
    "s = get_results_from_keywords(comp_col='arch', based_on='score', ix=4)\n",
    "s"
   ]
  }
 ],
 "metadata": {
  "kernelspec": {
   "display_name": "Python 3",
   "language": "python",
   "name": "python3"
  },
  "language_info": {
   "codemirror_mode": {
    "name": "ipython",
    "version": 3
   },
   "file_extension": ".py",
   "mimetype": "text/x-python",
   "name": "python",
   "nbconvert_exporter": "python",
   "pygments_lexer": "ipython3",
   "version": "3.7.9"
  }
 },
 "nbformat": 4,
 "nbformat_minor": 2
}
