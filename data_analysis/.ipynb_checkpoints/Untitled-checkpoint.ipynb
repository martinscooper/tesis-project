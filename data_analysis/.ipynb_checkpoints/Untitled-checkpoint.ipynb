{
 "cells": [
  {
   "cell_type": "code",
   "execution_count": 3,
   "metadata": {},
   "outputs": [],
   "source": [
    "from datetime import datetime\n",
    "import pandas as pd\n",
    "import numpy as np\n",
    "import matplotlib.pyplot as plt"
   ]
  },
  {
   "cell_type": "code",
   "execution_count": 5,
   "metadata": {},
   "outputs": [
    {
     "ename": "ModuleNotFoundError",
     "evalue": "No module named 'preprocessing'",
     "output_type": "error",
     "traceback": [
      "\u001b[0;31m---------------------------------------------------------------------------\u001b[0m",
      "\u001b[0;31mModuleNotFoundError\u001b[0m                       Traceback (most recent call last)",
      "\u001b[0;32m<ipython-input-5-9465454a1491>\u001b[0m in \u001b[0;36m<module>\u001b[0;34m\u001b[0m\n\u001b[0;32m----> 1\u001b[0;31m \u001b[0;32mfrom\u001b[0m \u001b[0mpreprocessing\u001b[0m\u001b[0;34m.\u001b[0m\u001b[0mstudentlife_raw\u001b[0m \u001b[0;32mimport\u001b[0m \u001b[0mget_sensor_data\u001b[0m\u001b[0;34m\u001b[0m\u001b[0;34m\u001b[0m\u001b[0m\n\u001b[0m",
      "\u001b[0;31mModuleNotFoundError\u001b[0m: No module named 'preprocessing'"
     ]
    }
   ],
   "source": [
    "from preprocessing.studentlife_raw import get_sensor_data"
   ]
  },
  {
   "cell_type": "code",
   "execution_count": 6,
   "metadata": {},
   "outputs": [
    {
     "data": {
      "text/plain": [
       "['/home/martin/PycharmProjects/tesis-project/data_analysis',\n",
       " '/home/martin/anaconda3/envs/tesis_env/lib/python38.zip',\n",
       " '/home/martin/anaconda3/envs/tesis_env/lib/python3.8',\n",
       " '/home/martin/anaconda3/envs/tesis_env/lib/python3.8/lib-dynload',\n",
       " '',\n",
       " '/home/martin/anaconda3/envs/tesis_env/lib/python3.8/site-packages',\n",
       " '/home/martin/anaconda3/envs/tesis_env/lib/python3.8/site-packages/IPython/extensions',\n",
       " '/home/martin/.ipython']"
      ]
     },
     "execution_count": 6,
     "metadata": {},
     "output_type": "execute_result"
    }
   ],
   "source": [
    "import sys\n",
    "sys.path"
   ]
  },
  {
   "cell_type": "code",
   "execution_count": null,
   "metadata": {},
   "outputs": [],
   "source": [
    "\n",
    "df = get_sensor_data('activity')\n",
    "df.columns = ['time', 'activityId', 'userId']\n",
    "nb_regs = df.shape[0]\n",
    "print(f'Cantidad total de registros: {nb_regs}')\n",
    "nb_unknown = df.loc[df[\"activityId\"]==3].shape\n",
    "print(f'Cantidad de unknowns: {nb_unknown}')\n",
    "min_date = datetime.fromtimestamp(min(df.time))\n",
    "print(f'min date: {min_date}')\n",
    "max_date = datetime.fromtimestamp(max(df.time))\n",
    "print(f'max date: {max_date}')"
   ]
  },
  {
   "cell_type": "code",
   "execution_count": null,
   "metadata": {},
   "outputs": [],
   "source": [
    "df = df.loc[df['activityId'] != 3]\n",
    "df['time'] = pd.to_datetime(df['time'], unit='s').dt.floor('1h')\n",
    "grouped_per_hour = df.groupby(['userId', 'time'])['activityId'].count()\n",
    "grouped_per_hour = grouped_per_hour.to_numpy()\n",
    "df = pd.concat([df, grouped_per_hour], axis=1, sort=False)\n",
    "s = pd.DataFrame(index=pd.MultiIndex.from_product(iterables=[df['userId'].drop_duplicates(),\n",
    "                                                                     pd.date_range(min_date,\n",
    "                                                                                   max_date,\n",
    "                                                                                   freq='1h')],\n",
    "                                                          names=['userId', 'time']))"
   ]
  },
  {
   "cell_type": "code",
   "execution_count": null,
   "metadata": {},
   "outputs": [],
   "source": [
    "vals = grouped_per_hour.to_numpy\n",
    "plt.hist(vals)\n",
    "plt.show()"
   ]
  }
 ],
 "metadata": {
  "kernelspec": {
   "display_name": "Python 3",
   "language": "python",
   "name": "python3"
  },
  "language_info": {
   "codemirror_mode": {
    "name": "ipython",
    "version": 3
   },
   "file_extension": ".py",
   "mimetype": "text/x-python",
   "name": "python",
   "nbconvert_exporter": "python",
   "pygments_lexer": "ipython3",
   "version": "3.8.3"
  }
 },
 "nbformat": 4,
 "nbformat_minor": 4
}
