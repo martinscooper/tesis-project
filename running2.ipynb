{
 "metadata": {
  "language_info": {
   "codemirror_mode": {
    "name": "ipython",
    "version": 3
   },
   "file_extension": ".py",
   "mimetype": "text/x-python",
   "name": "python",
   "nbconvert_exporter": "python",
   "pygments_lexer": "ipython3",
   "version": "3.7.9-final"
  },
  "orig_nbformat": 2,
  "kernelspec": {
   "name": "Python 3.7.9 64-bit ('tesis-env': conda)",
   "display_name": "Python 3.7.9 64-bit ('tesis-env': conda)",
   "metadata": {
    "interpreter": {
     "hash": "483d62e0fd38c649754acf6feff28592e71fa92d0e6ef214dca7b372df6f7f12"
    }
   }
  }
 },
 "nbformat": 4,
 "nbformat_minor": 2,
 "cells": [
  {
   "cell_type": "code",
   "execution_count": 2,
   "metadata": {},
   "outputs": [],
   "source": [
    "from experiments.experiments_results import get_experiments_data\n",
    "from preprocessing.model_ready import get_list_of_users\n",
    "import pandas as pd"
   ]
  },
  {
   "cell_type": "code",
   "execution_count": 3,
   "metadata": {},
   "outputs": [],
   "source": [
    "df = get_experiments_data()"
   ]
  },
  {
   "cell_type": "code",
   "execution_count": 37,
   "metadata": {},
   "outputs": [
    {
     "output_type": "execute_result",
     "data": {
      "text/plain": "     arch  mean_score\n1140  rnn      0.4314\n1146  rnn      0.4542\n1143  rnn      0.4734\n1149  rnn      0.5002\n1128  rnn      0.5056\n...   ...         ...\n3440  tcn    372.6124\n3448  tcn    454.6240\n3437  tcn    472.7394\n3444  tcn    491.2892\n3435  tcn    587.9992\n\n[96 rows x 2 columns]",
      "text/html": "<div>\n<style scoped>\n    .dataframe tbody tr th:only-of-type {\n        vertical-align: middle;\n    }\n\n    .dataframe tbody tr th {\n        vertical-align: top;\n    }\n\n    .dataframe thead th {\n        text-align: right;\n    }\n</style>\n<table border=\"1\" class=\"dataframe\">\n  <thead>\n    <tr style=\"text-align: right;\">\n      <th></th>\n      <th>arch</th>\n      <th>mean_score</th>\n    </tr>\n  </thead>\n  <tbody>\n    <tr>\n      <th>1140</th>\n      <td>rnn</td>\n      <td>0.4314</td>\n    </tr>\n    <tr>\n      <th>1146</th>\n      <td>rnn</td>\n      <td>0.4542</td>\n    </tr>\n    <tr>\n      <th>1143</th>\n      <td>rnn</td>\n      <td>0.4734</td>\n    </tr>\n    <tr>\n      <th>1149</th>\n      <td>rnn</td>\n      <td>0.5002</td>\n    </tr>\n    <tr>\n      <th>1128</th>\n      <td>rnn</td>\n      <td>0.5056</td>\n    </tr>\n    <tr>\n      <th>...</th>\n      <td>...</td>\n      <td>...</td>\n    </tr>\n    <tr>\n      <th>3440</th>\n      <td>tcn</td>\n      <td>372.6124</td>\n    </tr>\n    <tr>\n      <th>3448</th>\n      <td>tcn</td>\n      <td>454.6240</td>\n    </tr>\n    <tr>\n      <th>3437</th>\n      <td>tcn</td>\n      <td>472.7394</td>\n    </tr>\n    <tr>\n      <th>3444</th>\n      <td>tcn</td>\n      <td>491.2892</td>\n    </tr>\n    <tr>\n      <th>3435</th>\n      <td>tcn</td>\n      <td>587.9992</td>\n    </tr>\n  </tbody>\n</table>\n<p>96 rows × 2 columns</p>\n</div>"
     },
     "metadata": {},
     "execution_count": 37
    }
   ],
   "source": [
    "df.loc[df.arch='mlp'].group_by(['user','arch'])"
   ]
  },
  {
   "cell_type": "code",
   "execution_count": 26,
   "metadata": {},
   "outputs": [],
   "source": [
    "\n",
    "rows = []\n",
    "for user in get_list_of_users():\n",
    "    sorted_scores = df.loc[(df.user==user)][['arch','mean_score']].sort_values('mean_score', ascending=True).drop_duplicates(subset=['arch'])\n",
    "    best_archs =  sorted_scores.iloc[0:4,0].values\n",
    "\n",
    "    rows.append({'user': user, 'best': best_archs})\n",
    "results = pd.DataFrame(rows)\n",
    "results[['first','second','third','fourth']] = pd.DataFrame(results.best.tolist(), index=results.index)\n",
    "del results['best']"
   ]
  },
  {
   "cell_type": "code",
   "execution_count": 58,
   "metadata": {
    "tags": []
   },
   "outputs": [
    {
     "output_type": "stream",
     "name": "stdout",
     "text": "10.7 ms ± 495 µs per loop (mean ± std. dev. of 7 runs, 100 loops each)\n"
    }
   ],
   "source": [
    "%%timeit\n",
    "summarize = pd.DataFrame(columns=results.columns, index=['cnn','rnn','tcn','mlp'])\n",
    "for i in summarize.columns:\n",
    "    for j in summarize.index.values:\n",
    "        summarize.at[j,i] = sum(results[i]==j)\n",
    "del summarize['user']\n",
    "summarize\n",
    "# output: dataframe con la cantidad de veces que salio primera cada una, la cantidad que salio segunda, ...."
   ]
  },
  {
   "cell_type": "code",
   "execution_count": 52,
   "metadata": {
    "tags": []
   },
   "outputs": [
    {
     "output_type": "execute_result",
     "data": {
      "text/plain": "list"
     },
     "metadata": {},
     "execution_count": 52
    }
   ],
   "source": [
    "type(results.columns.tolist())"
   ]
  }
 ]
}