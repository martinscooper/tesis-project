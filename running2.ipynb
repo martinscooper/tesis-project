{
 "cells": [
  {
   "cell_type": "code",
   "execution_count": null,
   "metadata": {
    "tags": []
   },
   "outputs": [
    {
     "name": "stderr",
     "output_type": "stream",
     "text": [
      "Using TensorFlow backend.\n"
     ]
    },
    {
     "name": "stdout",
     "output_type": "stream",
     "text": [
      "2020-10-01 21:06:57.434315\n",
      "*** *** *** *** *** *** *** *** *** *** \n",
      "Experiment is: \n",
      "_regression_gran30min_period4_lags8_model-mlp_user59_imp\n",
      "Beginning experiment: \n",
      "Starting iteration nb 1 of 5\n",
      "Starting iteration nb 2 of 5\n"
     ]
    }
   ],
   "source": [
    "import os\n",
    "import pickle as pkl\n",
    "from experiments.experiment_running import run_all_experiments\n",
    "def fitness():\n",
    "    pass\n",
    "run_all_experiments(reverse_order=True, verbose=1)"
   ]
  }
 ],
 "metadata": {
  "kernelspec": {
   "display_name": "Python 3",
   "language": "python",
   "name": "python3"
  },
  "language_info": {
   "codemirror_mode": {
    "name": "ipython",
    "version": 3
   },
   "file_extension": ".py",
   "mimetype": "text/x-python",
   "name": "python",
   "nbconvert_exporter": "python",
   "pygments_lexer": "ipython3",
   "version": "3.7.9"
  }
 },
 "nbformat": 4,
 "nbformat_minor": 4
}
