{
 "cells": [
  {
   "cell_type": "code",
   "execution_count": 1,
   "metadata": {},
   "outputs": [],
   "source": [
    "from datetime import datetime\n",
    "import pandas as pd\n",
    "import numpy as np\n",
    "import matplotlib.pyplot as plt"
   ]
  },
  {
   "cell_type": "code",
   "execution_count": 2,
   "metadata": {},
   "outputs": [],
   "source": [
    "from preprocessing.studentlife_raw import get_sensor_data"
   ]
  },
  {
   "cell_type": "code",
   "execution_count": 3,
   "metadata": {},
   "outputs": [
    {
     "name": "stdout",
     "output_type": "stream",
     "text": [
      "Cantidad total de registros: 22842191\n",
      "Cantidad de unknowns: (608598, 3)\n",
      "min date: 2013-03-27 05:00:00\n",
      "max date: 2013-06-01 05:59:59\n"
     ]
    }
   ],
   "source": [
    "df = get_sensor_data('activity')\n",
    "df.columns = ['time', 'activityId', 'userId']\n",
    "nb_regs = df.shape[0]\n",
    "print(f'Cantidad total de registros: {nb_regs}')\n",
    "nb_unknown = df.loc[df[\"activityId\"]==3].shape\n",
    "print(f'Cantidad de unknowns: {nb_unknown}')\n",
    "min_date = datetime.fromtimestamp(min(df.time))\n",
    "print(f'min date: {min_date}')\n",
    "max_date = datetime.fromtimestamp(max(df.time))\n",
    "print(f'max date: {max_date}')"
   ]
  },
  {
   "cell_type": "code",
   "execution_count": 7,
   "metadata": {},
   "outputs": [],
   "source": [
    "df = df.loc[df['activityId'] != 3]\n",
    "df['time'] = pd.to_datetime(df['time'], unit='s').dt.floor('1h')\n",
    "grouped_per_hour = df.groupby(['userId', 'time'])['activityId'].count()\n",
    "vals = grouped_per_hour.to_numpy()"
   ]
  },
  {
   "cell_type": "code",
   "execution_count": 6,
   "metadata": {},
   "outputs": [
    {
     "ename": "NameError",
     "evalue": "name 'vals' is not defined",
     "output_type": "error",
     "traceback": [
      "\u001b[0;31m---------------------------------------------------------------------------\u001b[0m",
      "\u001b[0;31mNameError\u001b[0m                                 Traceback (most recent call last)",
      "\u001b[0;32m<ipython-input-6-f5a1f474333f>\u001b[0m in \u001b[0;36m<module>\u001b[0;34m\u001b[0m\n\u001b[0;32m----> 1\u001b[0;31m \u001b[0mplt\u001b[0m\u001b[0;34m.\u001b[0m\u001b[0mhist\u001b[0m\u001b[0;34m(\u001b[0m\u001b[0mvals\u001b[0m\u001b[0;34m)\u001b[0m\u001b[0;34m\u001b[0m\u001b[0;34m\u001b[0m\u001b[0m\n\u001b[0m\u001b[1;32m      2\u001b[0m \u001b[0mplt\u001b[0m\u001b[0;34m.\u001b[0m\u001b[0mshow\u001b[0m\u001b[0;34m(\u001b[0m\u001b[0;34m)\u001b[0m\u001b[0;34m\u001b[0m\u001b[0;34m\u001b[0m\u001b[0m\n",
      "\u001b[0;31mNameError\u001b[0m: name 'vals' is not defined"
     ]
    }
   ],
   "source": [
    "plt.hist(vals)\n",
    "plt.show()"
   ]
  },
  {
   "cell_type": "code",
   "execution_count": null,
   "metadata": {},
   "outputs": [],
   "source": [
    "df = pd.concat([df, grouped_per_hour], axis=1, sort=False)\n",
    "s = pd.DataFrame(index=pd.MultiIndex.from_product(iterables=[df['userId'].drop_duplicates(),\n",
    "                                                                     pd.date_range(min_date,\n",
    "                                                                                   max_date,\n",
    "                                                                                   freq='1h')],\n",
    "                                                          names=['userId', 'time']))"
   ]
  }
 ],
 "metadata": {
  "kernelspec": {
   "display_name": "Python 3",
   "language": "python",
   "name": "python3"
  },
  "language_info": {
   "codemirror_mode": {
    "name": "ipython",
    "version": 3
   },
   "file_extension": ".py",
   "mimetype": "text/x-python",
   "name": "python",
   "nbconvert_exporter": "python",
   "pygments_lexer": "ipython3",
   "version": "3.8.3"
  }
 },
 "nbformat": 4,
 "nbformat_minor": 4
}
